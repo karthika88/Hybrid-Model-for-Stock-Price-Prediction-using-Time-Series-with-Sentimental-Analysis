{
 "cells": [
  {
   "cell_type": "markdown",
   "metadata": {},
   "source": [
    "# Prophet Model for Time Series data"
   ]
  },
  {
   "cell_type": "code",
   "execution_count": 1,
   "metadata": {},
   "outputs": [],
   "source": [
    "import pandas as pd\n",
    "from fbprophet import Prophet\n",
    "from fbprophet.plot import add_changepoints_to_plot\n",
    "import numpy as np\n"
   ]
  },
  {
   "cell_type": "code",
   "execution_count": 2,
   "metadata": {},
   "outputs": [],
   "source": [
    "data=pd.read_csv('SBI1619.csv')\n",
    "#data.head()"
   ]
  },
  {
   "cell_type": "code",
   "execution_count": 3,
   "metadata": {},
   "outputs": [],
   "source": [
    "df = pd.DataFrame()\n",
    "df['ds'] = pd.to_datetime(data['Date'])\n",
    "df['y'] = data['Close Price']\n",
    "df.sort_values(by=['ds'], inplace=True, ascending=True)\n",
    "df.reset_index(drop=True,inplace=True)\n",
    "#df.head()"
   ]
  },
  {
   "cell_type": "code",
   "execution_count": 4,
   "metadata": {},
   "outputs": [],
   "source": [
    "train=df.iloc[:-10]\n",
    "test=df.iloc[-10:]"
   ]
  },
  {
   "cell_type": "code",
   "execution_count": 5,
   "metadata": {},
   "outputs": [],
   "source": [
    "m=Prophet(\n",
    "        growth=\"linear\",\n",
    "        seasonality_mode=\"multiplicative\",\n",
    "        changepoint_prior_scale=30,\n",
    "        seasonality_prior_scale=35)"
   ]
  },
  {
   "cell_type": "code",
   "execution_count": 6,
   "metadata": {},
   "outputs": [
    {
     "name": "stderr",
     "output_type": "stream",
     "text": [
      "INFO:numexpr.utils:NumExpr defaulting to 8 threads.\n",
      "INFO:fbprophet:Disabling daily seasonality. Run prophet with daily_seasonality=True to override this.\n"
     ]
    },
    {
     "data": {
      "text/plain": [
       "<fbprophet.forecaster.Prophet at 0x21c8f85dbb0>"
      ]
     },
     "execution_count": 6,
     "metadata": {},
     "output_type": "execute_result"
    }
   ],
   "source": [
    "m.fit(train)"
   ]
  },
  {
   "cell_type": "code",
   "execution_count": 7,
   "metadata": {},
   "outputs": [],
   "source": [
    "future = m.make_future_dataframe(periods=10, freq='D')"
   ]
  },
  {
   "cell_type": "code",
   "execution_count": 8,
   "metadata": {},
   "outputs": [],
   "source": [
    "forecast = m.predict(future)"
   ]
  },
  {
   "cell_type": "code",
   "execution_count": 9,
   "metadata": {},
   "outputs": [],
   "source": [
    "pred=forecast[['ds','yhat']]"
   ]
  },
  {
   "cell_type": "code",
   "execution_count": 10,
   "metadata": {},
   "outputs": [],
   "source": [
    "pred=df.merge(pred, how='inner', on='ds')"
   ]
  },
  {
   "cell_type": "code",
   "execution_count": 11,
   "metadata": {},
   "outputs": [],
   "source": [
    "pred.set_index('ds',inplace=True)"
   ]
  },
  {
   "cell_type": "code",
   "execution_count": 12,
   "metadata": {},
   "outputs": [
    {
     "data": {
      "text/plain": [
       "<AxesSubplot:xlabel='ds'>"
      ]
     },
     "execution_count": 12,
     "metadata": {},
     "output_type": "execute_result"
    },
    {
     "data": {
      "image/png": "[encoded data removed]",
      "text/plain": [
       "<Figure size 432x288 with 1 Axes>"
      ]
     },
     "metadata": {
      "needs_background": "light"
     },
     "output_type": "display_data"
    }
   ],
   "source": [
    "pred.plot()"
   ]
  },
  {
   "cell_type": "code",
   "execution_count": 31,
   "metadata": {},
   "outputs": [],
   "source": [
    "def MAPE(pred,actual):\n",
    "    return np.mean(np.abs((pred-actual)/actual))"
   ]
  },
  {
   "cell_type": "code",
   "execution_count": 50,
   "metadata": {},
   "outputs": [
    {
     "name": "stdout",
     "output_type": "stream",
     "text": [
      "The error is 0.0212\n"
     ]
    }
   ],
   "source": [
    "print(f'The error is {round(MAPE(pred.yhat,pred.y), 5)}')"
   ]
  },
  {
   "cell_type": "markdown",
   "metadata": {},
   "source": [
    "#  Prophet with Sentimental Analysis"
   ]
  },
  {
   "cell_type": "code",
   "execution_count": 17,
   "metadata": {},
   "outputs": [],
   "source": [
    "newsdf=pd.read_csv('news_df.csv')"
   ]
  },
  {
   "cell_type": "code",
   "execution_count": 22,
   "metadata": {},
   "outputs": [],
   "source": [
    "newsdf.rename(columns={'date': 'ds'}, inplace=True)\n",
    "newsdf['ds'] = pd.to_datetime(newsdf['ds'])"
   ]
  },
  {
   "cell_type": "code",
   "execution_count": 32,
   "metadata": {},
   "outputs": [],
   "source": [
    "prophet_df = pd.merge(df, newsdf, how='inner', on=['ds'])"
   ]
  },
  {
   "cell_type": "code",
   "execution_count": 35,
   "metadata": {},
   "outputs": [
    {
     "data": {
      "text/html": [
       "<div>\n",
       "<style scoped>\n",
       "    .dataframe tbody tr th:only-of-type {\n",
       "        vertical-align: middle;\n",
       "    }\n",
       "\n",
       "    .dataframe tbody tr th {\n",
       "        vertical-align: top;\n",
       "    }\n",
       "\n",
       "    .dataframe thead th {\n",
       "        text-align: right;\n",
       "    }\n",
       "</style>\n",
       "<table border=\"1\" class=\"dataframe\">\n",
       "  <thead>\n",
       "    <tr style=\"text-align: right;\">\n",
       "      <th></th>\n",
       "      <th>ds</th>\n",
       "      <th>y</th>\n",
       "      <th>polarity</th>\n",
       "      <th>subjectivity</th>\n",
       "    </tr>\n",
       "  </thead>\n",
       "  <tbody>\n",
       "    <tr>\n",
       "      <th>0</th>\n",
       "      <td>2016-01-01</td>\n",
       "      <td>227.65</td>\n",
       "      <td>0.093826</td>\n",
       "      <td>0.436984</td>\n",
       "    </tr>\n",
       "    <tr>\n",
       "      <th>1</th>\n",
       "      <td>2016-01-04</td>\n",
       "      <td>220.95</td>\n",
       "      <td>0.041845</td>\n",
       "      <td>0.423914</td>\n",
       "    </tr>\n",
       "    <tr>\n",
       "      <th>2</th>\n",
       "      <td>2016-01-05</td>\n",
       "      <td>218.25</td>\n",
       "      <td>0.057784</td>\n",
       "      <td>0.374786</td>\n",
       "    </tr>\n",
       "    <tr>\n",
       "      <th>3</th>\n",
       "      <td>2016-01-06</td>\n",
       "      <td>217.00</td>\n",
       "      <td>0.085804</td>\n",
       "      <td>0.407554</td>\n",
       "    </tr>\n",
       "    <tr>\n",
       "      <th>4</th>\n",
       "      <td>2016-01-07</td>\n",
       "      <td>209.55</td>\n",
       "      <td>0.086929</td>\n",
       "      <td>0.421813</td>\n",
       "    </tr>\n",
       "    <tr>\n",
       "      <th>...</th>\n",
       "      <td>...</td>\n",
       "      <td>...</td>\n",
       "      <td>...</td>\n",
       "      <td>...</td>\n",
       "    </tr>\n",
       "    <tr>\n",
       "      <th>737</th>\n",
       "      <td>2018-12-26</td>\n",
       "      <td>293.95</td>\n",
       "      <td>0.026659</td>\n",
       "      <td>0.396428</td>\n",
       "    </tr>\n",
       "    <tr>\n",
       "      <th>738</th>\n",
       "      <td>2018-12-27</td>\n",
       "      <td>291.85</td>\n",
       "      <td>0.019154</td>\n",
       "      <td>0.426399</td>\n",
       "    </tr>\n",
       "    <tr>\n",
       "      <th>739</th>\n",
       "      <td>2018-12-28</td>\n",
       "      <td>294.45</td>\n",
       "      <td>0.020108</td>\n",
       "      <td>0.388028</td>\n",
       "    </tr>\n",
       "    <tr>\n",
       "      <th>740</th>\n",
       "      <td>2018-12-31</td>\n",
       "      <td>295.65</td>\n",
       "      <td>0.054422</td>\n",
       "      <td>0.411850</td>\n",
       "    </tr>\n",
       "    <tr>\n",
       "      <th>741</th>\n",
       "      <td>2019-01-01</td>\n",
       "      <td>299.35</td>\n",
       "      <td>0.073524</td>\n",
       "      <td>0.466900</td>\n",
       "    </tr>\n",
       "  </tbody>\n",
       "</table>\n",
       "<p>742 rows × 4 columns</p>\n",
       "</div>"
      ],
      "text/plain": [
       "            ds       y  polarity  subjectivity\n",
       "0   2016-01-01  227.65  0.093826      0.436984\n",
       "1   2016-01-04  220.95  0.041845      0.423914\n",
       "2   2016-01-05  218.25  0.057784      0.374786\n",
       "3   2016-01-06  217.00  0.085804      0.407554\n",
       "4   2016-01-07  209.55  0.086929      0.421813\n",
       "..         ...     ...       ...           ...\n",
       "737 2018-12-26  293.95  0.026659      0.396428\n",
       "738 2018-12-27  291.85  0.019154      0.426399\n",
       "739 2018-12-28  294.45  0.020108      0.388028\n",
       "740 2018-12-31  295.65  0.054422      0.411850\n",
       "741 2019-01-01  299.35  0.073524      0.466900\n",
       "\n",
       "[742 rows x 4 columns]"
      ]
     },
     "execution_count": 35,
     "metadata": {},
     "output_type": "execute_result"
    }
   ],
   "source": [
    "prophet_df"
   ]
  },
  {
   "cell_type": "code",
   "execution_count": 34,
   "metadata": {},
   "outputs": [],
   "source": [
    "prophet_df.drop('Unnamed: 0', axis=1, inplace=True)"
   ]
  },
  {
   "cell_type": "code",
   "execution_count": 36,
   "metadata": {},
   "outputs": [],
   "source": [
    "train_m=prophet_df.iloc[:-10]\n",
    "test_m=prophet_df.iloc[-10:]"
   ]
  },
  {
   "cell_type": "code",
   "execution_count": 39,
   "metadata": {},
   "outputs": [],
   "source": [
    "fbp_m=Prophet(\n",
    "        growth=\"linear\",\n",
    "        seasonality_mode=\"multiplicative\",\n",
    "        changepoint_prior_scale=30,\n",
    "        seasonality_prior_scale=35)"
   ]
  },
  {
   "cell_type": "code",
   "execution_count": 40,
   "metadata": {},
   "outputs": [
    {
     "name": "stderr",
     "output_type": "stream",
     "text": [
      "INFO:fbprophet:Disabling daily seasonality. Run prophet with daily_seasonality=True to override this.\n"
     ]
    }
   ],
   "source": [
    "fbp_m.add_regressor('polarity')\n",
    "fbp_m.add_regressor('subjectivity')\n",
    "\n",
    "fbp_m.fit(train_m)\n",
    "\n",
    "fut_m = fbp_m.make_future_dataframe(periods=10) \n",
    "fut_m['polarity']=prophet_df['polarity'].copy()\n",
    "fut_m['subjectivity']=prophet_df['subjectivity'].copy()\n",
    "forecast_m = fbp_m.predict(fut_m)"
   ]
  },
  {
   "cell_type": "code",
   "execution_count": 41,
   "metadata": {},
   "outputs": [],
   "source": [
    "pred_m=forecast_m[['ds','yhat']]"
   ]
  },
  {
   "cell_type": "code",
   "execution_count": 42,
   "metadata": {},
   "outputs": [],
   "source": [
    "pred_m=prophet_df.merge(pred_m, how='inner', on='ds')"
   ]
  },
  {
   "cell_type": "code",
   "execution_count": 43,
   "metadata": {},
   "outputs": [],
   "source": [
    "pred_m.set_index('ds',inplace=True)"
   ]
  },
  {
   "cell_type": "code",
   "execution_count": 44,
   "metadata": {},
   "outputs": [
    {
     "data": {
      "text/html": [
       "<div>\n",
       "<style scoped>\n",
       "    .dataframe tbody tr th:only-of-type {\n",
       "        vertical-align: middle;\n",
       "    }\n",
       "\n",
       "    .dataframe tbody tr th {\n",
       "        vertical-align: top;\n",
       "    }\n",
       "\n",
       "    .dataframe thead th {\n",
       "        text-align: right;\n",
       "    }\n",
       "</style>\n",
       "<table border=\"1\" class=\"dataframe\">\n",
       "  <thead>\n",
       "    <tr style=\"text-align: right;\">\n",
       "      <th></th>\n",
       "      <th>y</th>\n",
       "      <th>polarity</th>\n",
       "      <th>subjectivity</th>\n",
       "      <th>yhat</th>\n",
       "    </tr>\n",
       "    <tr>\n",
       "      <th>ds</th>\n",
       "      <th></th>\n",
       "      <th></th>\n",
       "      <th></th>\n",
       "      <th></th>\n",
       "    </tr>\n",
       "  </thead>\n",
       "  <tbody>\n",
       "    <tr>\n",
       "      <th>2016-01-01</th>\n",
       "      <td>227.65</td>\n",
       "      <td>0.093826</td>\n",
       "      <td>0.436984</td>\n",
       "      <td>224.136040</td>\n",
       "    </tr>\n",
       "    <tr>\n",
       "      <th>2016-01-04</th>\n",
       "      <td>220.95</td>\n",
       "      <td>0.041845</td>\n",
       "      <td>0.423914</td>\n",
       "      <td>214.732525</td>\n",
       "    </tr>\n",
       "    <tr>\n",
       "      <th>2016-01-05</th>\n",
       "      <td>218.25</td>\n",
       "      <td>0.057784</td>\n",
       "      <td>0.374786</td>\n",
       "      <td>212.943318</td>\n",
       "    </tr>\n",
       "    <tr>\n",
       "      <th>2016-01-06</th>\n",
       "      <td>217.00</td>\n",
       "      <td>0.085804</td>\n",
       "      <td>0.407554</td>\n",
       "      <td>212.034769</td>\n",
       "    </tr>\n",
       "    <tr>\n",
       "      <th>2016-01-07</th>\n",
       "      <td>209.55</td>\n",
       "      <td>0.086929</td>\n",
       "      <td>0.421813</td>\n",
       "      <td>209.872565</td>\n",
       "    </tr>\n",
       "    <tr>\n",
       "      <th>...</th>\n",
       "      <td>...</td>\n",
       "      <td>...</td>\n",
       "      <td>...</td>\n",
       "      <td>...</td>\n",
       "    </tr>\n",
       "    <tr>\n",
       "      <th>2018-12-20</th>\n",
       "      <td>293.85</td>\n",
       "      <td>0.014108</td>\n",
       "      <td>0.397354</td>\n",
       "      <td>286.194223</td>\n",
       "    </tr>\n",
       "    <tr>\n",
       "      <th>2018-12-21</th>\n",
       "      <td>291.65</td>\n",
       "      <td>0.071712</td>\n",
       "      <td>0.428034</td>\n",
       "      <td>288.088267</td>\n",
       "    </tr>\n",
       "    <tr>\n",
       "      <th>2018-12-24</th>\n",
       "      <td>292.80</td>\n",
       "      <td>0.099456</td>\n",
       "      <td>0.414238</td>\n",
       "      <td>285.792875</td>\n",
       "    </tr>\n",
       "    <tr>\n",
       "      <th>2018-12-26</th>\n",
       "      <td>293.95</td>\n",
       "      <td>0.026659</td>\n",
       "      <td>0.396428</td>\n",
       "      <td>287.712881</td>\n",
       "    </tr>\n",
       "    <tr>\n",
       "      <th>2018-12-27</th>\n",
       "      <td>291.85</td>\n",
       "      <td>0.019154</td>\n",
       "      <td>0.426399</td>\n",
       "      <td>288.005756</td>\n",
       "    </tr>\n",
       "  </tbody>\n",
       "</table>\n",
       "<p>739 rows × 4 columns</p>\n",
       "</div>"
      ],
      "text/plain": [
       "                 y  polarity  subjectivity        yhat\n",
       "ds                                                    \n",
       "2016-01-01  227.65  0.093826      0.436984  224.136040\n",
       "2016-01-04  220.95  0.041845      0.423914  214.732525\n",
       "2016-01-05  218.25  0.057784      0.374786  212.943318\n",
       "2016-01-06  217.00  0.085804      0.407554  212.034769\n",
       "2016-01-07  209.55  0.086929      0.421813  209.872565\n",
       "...            ...       ...           ...         ...\n",
       "2018-12-20  293.85  0.014108      0.397354  286.194223\n",
       "2018-12-21  291.65  0.071712      0.428034  288.088267\n",
       "2018-12-24  292.80  0.099456      0.414238  285.792875\n",
       "2018-12-26  293.95  0.026659      0.396428  287.712881\n",
       "2018-12-27  291.85  0.019154      0.426399  288.005756\n",
       "\n",
       "[739 rows x 4 columns]"
      ]
     },
     "execution_count": 44,
     "metadata": {},
     "output_type": "execute_result"
    }
   ],
   "source": [
    "pred_m"
   ]
  },
  {
   "cell_type": "code",
   "execution_count": 45,
   "metadata": {},
   "outputs": [],
   "source": [
    "pred_m.drop(['polarity', 'subjectivity'], axis=1, inplace=True)"
   ]
  },
  {
   "cell_type": "code",
   "execution_count": 46,
   "metadata": {},
   "outputs": [
    {
     "data": {
      "text/html": [
       "<div>\n",
       "<style scoped>\n",
       "    .dataframe tbody tr th:only-of-type {\n",
       "        vertical-align: middle;\n",
       "    }\n",
       "\n",
       "    .dataframe tbody tr th {\n",
       "        vertical-align: top;\n",
       "    }\n",
       "\n",
       "    .dataframe thead th {\n",
       "        text-align: right;\n",
       "    }\n",
       "</style>\n",
       "<table border=\"1\" class=\"dataframe\">\n",
       "  <thead>\n",
       "    <tr style=\"text-align: right;\">\n",
       "      <th></th>\n",
       "      <th>y</th>\n",
       "      <th>yhat</th>\n",
       "    </tr>\n",
       "    <tr>\n",
       "      <th>ds</th>\n",
       "      <th></th>\n",
       "      <th></th>\n",
       "    </tr>\n",
       "  </thead>\n",
       "  <tbody>\n",
       "    <tr>\n",
       "      <th>2016-01-01</th>\n",
       "      <td>227.65</td>\n",
       "      <td>224.136040</td>\n",
       "    </tr>\n",
       "    <tr>\n",
       "      <th>2016-01-04</th>\n",
       "      <td>220.95</td>\n",
       "      <td>214.732525</td>\n",
       "    </tr>\n",
       "    <tr>\n",
       "      <th>2016-01-05</th>\n",
       "      <td>218.25</td>\n",
       "      <td>212.943318</td>\n",
       "    </tr>\n",
       "    <tr>\n",
       "      <th>2016-01-06</th>\n",
       "      <td>217.00</td>\n",
       "      <td>212.034769</td>\n",
       "    </tr>\n",
       "    <tr>\n",
       "      <th>2016-01-07</th>\n",
       "      <td>209.55</td>\n",
       "      <td>209.872565</td>\n",
       "    </tr>\n",
       "    <tr>\n",
       "      <th>...</th>\n",
       "      <td>...</td>\n",
       "      <td>...</td>\n",
       "    </tr>\n",
       "    <tr>\n",
       "      <th>2018-12-20</th>\n",
       "      <td>293.85</td>\n",
       "      <td>286.194223</td>\n",
       "    </tr>\n",
       "    <tr>\n",
       "      <th>2018-12-21</th>\n",
       "      <td>291.65</td>\n",
       "      <td>288.088267</td>\n",
       "    </tr>\n",
       "    <tr>\n",
       "      <th>2018-12-24</th>\n",
       "      <td>292.80</td>\n",
       "      <td>285.792875</td>\n",
       "    </tr>\n",
       "    <tr>\n",
       "      <th>2018-12-26</th>\n",
       "      <td>293.95</td>\n",
       "      <td>287.712881</td>\n",
       "    </tr>\n",
       "    <tr>\n",
       "      <th>2018-12-27</th>\n",
       "      <td>291.85</td>\n",
       "      <td>288.005756</td>\n",
       "    </tr>\n",
       "  </tbody>\n",
       "</table>\n",
       "<p>739 rows × 2 columns</p>\n",
       "</div>"
      ],
      "text/plain": [
       "                 y        yhat\n",
       "ds                            \n",
       "2016-01-01  227.65  224.136040\n",
       "2016-01-04  220.95  214.732525\n",
       "2016-01-05  218.25  212.943318\n",
       "2016-01-06  217.00  212.034769\n",
       "2016-01-07  209.55  209.872565\n",
       "...            ...         ...\n",
       "2018-12-20  293.85  286.194223\n",
       "2018-12-21  291.65  288.088267\n",
       "2018-12-24  292.80  285.792875\n",
       "2018-12-26  293.95  287.712881\n",
       "2018-12-27  291.85  288.005756\n",
       "\n",
       "[739 rows x 2 columns]"
      ]
     },
     "execution_count": 46,
     "metadata": {},
     "output_type": "execute_result"
    }
   ],
   "source": [
    "pred_m"
   ]
  },
  {
   "cell_type": "code",
   "execution_count": 47,
   "metadata": {},
   "outputs": [
    {
     "data": {
      "text/plain": [
       "<AxesSubplot:xlabel='ds'>"
      ]
     },
     "execution_count": 47,
     "metadata": {},
     "output_type": "execute_result"
    },
    {
     "data": {
      "image/png": "[encoded data removed]",
      "text/plain": [
       "<Figure size 432x288 with 1 Axes>"
      ]
     },
     "metadata": {
      "needs_background": "light"
     },
     "output_type": "display_data"
    }
   ],
   "source": [
    "pred_m.plot()"
   ]
  },
  {
   "cell_type": "code",
   "execution_count": 49,
   "metadata": {},
   "outputs": [
    {
     "name": "stdout",
     "output_type": "stream",
     "text": [
      "The error is 0.02118\n"
     ]
    }
   ],
   "source": [
    "print(f'The error is {round(MAPE(pred_m.yhat,pred_m.y), 5)}')"
   ]
  }
 ],
 "metadata": {
  "kernelspec": {
   "display_name": "Python 3",
   "language": "python",
   "name": "python3"
  },
  "language_info": {
   "codemirror_mode": {
    "name": "ipython",
    "version": 3
   },
   "file_extension": ".py",
   "mimetype": "text/x-python",
   "name": "python",
   "nbconvert_exporter": "python",
   "pygments_lexer": "ipython3",
   "version": "3.8.5"
  }
 },
 "nbformat": 4,
 "nbformat_minor": 4
}
